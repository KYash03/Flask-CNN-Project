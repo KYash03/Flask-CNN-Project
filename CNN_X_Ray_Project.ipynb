{
  "cells": [
    {
      "cell_type": "code",
      "execution_count": null,
      "metadata": {
        "id": "7WJKnigGRpgO"
      },
      "outputs": [],
      "source": [
        "# !rm -r /content/untitled_project"
      ],
      "id": "7WJKnigGRpgO"
    },
    {
      "cell_type": "code",
      "execution_count": null,
      "metadata": {
        "id": "pcy7dZlmpZtZ",
        "colab": {
          "base_uri": "https://localhost:8080/"
        },
        "outputId": "80b2280a-5415-4e0e-b7a6-540a251031d3"
      },
      "outputs": [
        {
          "output_type": "stream",
          "name": "stdout",
          "text": [
            "Mounted at /content/drive\n"
          ]
        }
      ],
      "source": [
        "from google.colab import drive\n",
        "drive.mount('/content/drive')"
      ],
      "id": "pcy7dZlmpZtZ"
    },
    {
      "cell_type": "code",
      "execution_count": null,
      "metadata": {
        "id": "1e860939"
      },
      "outputs": [],
      "source": [
        "import tensorflow as tf\n",
        "from tensorflow.keras.preprocessing.image import ImageDataGenerator, img_to_array, load_img\n",
        "\n",
        "import numpy as np\n",
        "import matplotlib.pyplot as plt"
      ],
      "id": "1e860939"
    },
    {
      "cell_type": "code",
      "execution_count": null,
      "metadata": {
        "id": "213a1095"
      },
      "outputs": [],
      "source": [
        "data_directory = \"/content/drive/MyDrive/chest_x_ray\""
      ],
      "id": "213a1095"
    },
    {
      "cell_type": "code",
      "execution_count": null,
      "metadata": {
        "id": "242972c5"
      },
      "outputs": [],
      "source": [
        "data_generator = ImageDataGenerator(validation_split=0.2,\n",
        "                                    rescale=1.0 / 255.0,\n",
        "                                    zoom_range=0.2,\n",
        "                                    rotation_range=15,\n",
        "                                    width_shift_range=0.1,\n",
        "                                    height_shift_range=0.1,\n",
        "                                    horizontal_flip=True,\n",
        "                                    vertical_flip=False)\n",
        "\n",
        "# Augmentations"
      ],
      "id": "242972c5"
    },
    {
      "cell_type": "code",
      "execution_count": null,
      "metadata": {
        "id": "2ba5a893",
        "colab": {
          "base_uri": "https://localhost:8080/"
        },
        "outputId": "6ebc3485-cc26-43e6-b03b-772dd2d09bca"
      },
      "outputs": [
        {
          "output_type": "stream",
          "name": "stdout",
          "text": [
            "Found 4686 images belonging to 2 classes.\n"
          ]
        }
      ],
      "source": [
        "train_generator = data_generator.flow_from_directory(data_directory,\n",
        "                                                     target_size=(64, 64),\n",
        "                                                     class_mode='categorical',\n",
        "                                                     subset=\"training\")"
      ],
      "id": "2ba5a893"
    },
    {
      "cell_type": "code",
      "execution_count": null,
      "metadata": {
        "id": "73f14131"
      },
      "outputs": [],
      "source": [
        "from tensorflow.keras.models import Sequential\n",
        "from tensorflow.keras.layers import Conv2D, MaxPooling2D, Flatten, Dense, Dropout\n",
        "\n",
        "# \"Dropout\""
      ],
      "id": "73f14131"
    },
    {
      "cell_type": "code",
      "execution_count": null,
      "metadata": {
        "id": "cae3f609"
      },
      "outputs": [],
      "source": [
        "model = Sequential()"
      ],
      "id": "cae3f609"
    },
    {
      "cell_type": "code",
      "execution_count": null,
      "metadata": {
        "id": "6dba62c8"
      },
      "outputs": [],
      "source": [
        "model.add(\n",
        "    Conv2D(filters=16,\n",
        "           kernel_size=(3, 3),\n",
        "           activation=\"relu\",\n",
        "           input_shape=(64, 64, 3)))\n",
        "model.add(MaxPooling2D(2, 2))\n",
        "\n",
        "model.add(Conv2D(filters=32, kernel_size=(3, 3), activation=\"relu\"))\n",
        "model.add(MaxPooling2D(2, 2))"
      ],
      "id": "6dba62c8"
    },
    {
      "cell_type": "code",
      "execution_count": null,
      "metadata": {
        "id": "bc3ce6a9"
      },
      "outputs": [],
      "source": [
        "model.add(Flatten())\n",
        "\n",
        "model.add(Dense(units=64, activation=\"relu\"))\n",
        "\n",
        "model.add(Dropout(0.2))\n",
        "\n",
        "model.add(Dense(units=128, activation=\"relu\"))\n",
        "\n",
        "model.add(Dense(units=2, activation=\"softmax\"))"
      ],
      "id": "bc3ce6a9"
    },
    {
      "cell_type": "code",
      "execution_count": null,
      "metadata": {
        "id": "5554fb9b"
      },
      "outputs": [],
      "source": [
        "model.compile(optimizer=\"adam\",\n",
        "              loss=\"categorical_crossentropy\",\n",
        "              metrics=[\"accuracy\"])"
      ],
      "id": "5554fb9b"
    },
    {
      "cell_type": "code",
      "execution_count": null,
      "metadata": {
        "id": "b3cce915",
        "colab": {
          "base_uri": "https://localhost:8080/"
        },
        "outputId": "2a70d373-f7d4-4b10-c346-7544e2661442"
      },
      "outputs": [
        {
          "output_type": "stream",
          "name": "stdout",
          "text": [
            "Model: \"sequential_1\"\n",
            "_________________________________________________________________\n",
            " Layer (type)                Output Shape              Param #   \n",
            "=================================================================\n",
            " conv2d_6 (Conv2D)           (None, 62, 62, 16)        448       \n",
            "                                                                 \n",
            " max_pooling2d_6 (MaxPooling  (None, 31, 31, 16)       0         \n",
            " 2D)                                                             \n",
            "                                                                 \n",
            " conv2d_7 (Conv2D)           (None, 29, 29, 32)        4640      \n",
            "                                                                 \n",
            " max_pooling2d_7 (MaxPooling  (None, 14, 14, 32)       0         \n",
            " 2D)                                                             \n",
            "                                                                 \n",
            " flatten_1 (Flatten)         (None, 6272)              0         \n",
            "                                                                 \n",
            " dense_3 (Dense)             (None, 64)                401472    \n",
            "                                                                 \n",
            " dropout (Dropout)           (None, 64)                0         \n",
            "                                                                 \n",
            " dense_4 (Dense)             (None, 128)               8320      \n",
            "                                                                 \n",
            " dense_5 (Dense)             (None, 2)                 258       \n",
            "                                                                 \n",
            "=================================================================\n",
            "Total params: 415,138\n",
            "Trainable params: 415,138\n",
            "Non-trainable params: 0\n",
            "_________________________________________________________________\n"
          ]
        }
      ],
      "source": [
        "model.summary()"
      ],
      "id": "b3cce915"
    },
    {
      "cell_type": "code",
      "execution_count": null,
      "metadata": {
        "id": "7fb856b4",
        "scrolled": false,
        "colab": {
          "base_uri": "https://localhost:8080/"
        },
        "outputId": "dc70d64b-ea51-470a-dd1e-565c57663bab"
      },
      "outputs": [
        {
          "output_type": "stream",
          "name": "stdout",
          "text": [
            "Epoch 1/10\n",
            "147/147 [==============================] - 51s 334ms/step - loss: 0.5090 - accuracy: 0.7682\n",
            "Epoch 2/10\n",
            "147/147 [==============================] - 49s 336ms/step - loss: 0.3334 - accuracy: 0.8525\n",
            "Epoch 3/10\n",
            "147/147 [==============================] - 49s 334ms/step - loss: 0.2845 - accuracy: 0.8801\n",
            "Epoch 4/10\n",
            "147/147 [==============================] - 49s 331ms/step - loss: 0.2852 - accuracy: 0.8752\n",
            "Epoch 5/10\n",
            "147/147 [==============================] - 49s 333ms/step - loss: 0.2422 - accuracy: 0.9080\n",
            "Epoch 6/10\n",
            "147/147 [==============================] - 49s 333ms/step - loss: 0.2361 - accuracy: 0.9052\n",
            "Epoch 7/10\n",
            "147/147 [==============================] - 49s 333ms/step - loss: 0.2349 - accuracy: 0.9059\n",
            "Epoch 8/10\n",
            "147/147 [==============================] - 49s 333ms/step - loss: 0.2274 - accuracy: 0.9099\n",
            "Epoch 9/10\n",
            "147/147 [==============================] - 49s 333ms/step - loss: 0.2093 - accuracy: 0.9195\n",
            "Epoch 10/10\n",
            "147/147 [==============================] - 49s 332ms/step - loss: 0.2328 - accuracy: 0.9082\n"
          ]
        }
      ],
      "source": [
        "history = model.fit(train_generator, epochs=5)"
      ],
      "id": "7fb856b4"
    },
    {
      "cell_type": "code",
      "execution_count": null,
      "metadata": {
        "id": "d310c91b",
        "colab": {
          "base_uri": "https://localhost:8080/",
          "height": 467
        },
        "outputId": "3ef0b84e-7a1d-46af-fe20-87e1df1057d3"
      },
      "outputs": [
        {
          "output_type": "execute_result",
          "data": {
            "text/plain": [
              "<matplotlib.legend.Legend at 0x78c100441300>"
            ]
          },
          "metadata": {},
          "execution_count": 48
        },
        {
          "output_type": "display_data",
          "data": {
            "text/plain": [
              "<Figure size 640x480 with 1 Axes>"
            ],
            "image/png": "[encoded data removed]"
          },
          "metadata": {}
        }
      ],
      "source": [
        "plt.plot(history.history['accuracy'])\n",
        "\n",
        "plt.xlabel('epoch')\n",
        "plt.ylabel('accuracy')\n",
        "\n",
        "plt.legend(['train'], loc='upper left')"
      ],
      "id": "d310c91b"
    },
    {
      "cell_type": "code",
      "execution_count": null,
      "metadata": {
        "id": "41eb26c3",
        "colab": {
          "base_uri": "https://localhost:8080/"
        },
        "outputId": "90333ef7-3dcf-4010-f352-062101985675"
      },
      "outputs": [
        {
          "output_type": "stream",
          "name": "stdout",
          "text": [
            "Found 1170 images belonging to 2 classes.\n"
          ]
        }
      ],
      "source": [
        "val_generator = data_generator.flow_from_directory(data_directory,\n",
        "                                                   target_size=(64, 64),\n",
        "                                                   class_mode='categorical',\n",
        "                                                   subset=\"validation\")"
      ],
      "id": "41eb26c3"
    },
    {
      "cell_type": "code",
      "execution_count": null,
      "metadata": {
        "id": "999f7429",
        "colab": {
          "base_uri": "https://localhost:8080/"
        },
        "outputId": "e5e2d8e4-ceb2-4d07-f1f4-d78df1f7f691"
      },
      "outputs": [
        {
          "output_type": "stream",
          "name": "stdout",
          "text": [
            "37/37 [==============================] - 12s 327ms/step - loss: 0.2516 - accuracy: 0.8949\n"
          ]
        }
      ],
      "source": [
        "score = model.evaluate(val_generator)"
      ],
      "id": "999f7429"
    },
    {
      "cell_type": "code",
      "execution_count": null,
      "metadata": {
        "id": "1dbf8152",
        "colab": {
          "base_uri": "https://localhost:8080/",
          "height": 35
        },
        "outputId": "58614618-484c-4255-fc54-e1299690e1ad"
      },
      "outputs": [
        {
          "output_type": "execute_result",
          "data": {
            "text/plain": [
              "'Test Loss: 0.25163885951042175'"
            ],
            "application/vnd.google.colaboratory.intrinsic+json": {
              "type": "string"
            }
          },
          "metadata": {},
          "execution_count": 45
        }
      ],
      "source": [
        "\"Test Loss: \" + str(score[0])"
      ],
      "id": "1dbf8152"
    },
    {
      "cell_type": "code",
      "execution_count": null,
      "metadata": {
        "id": "820a523f",
        "colab": {
          "base_uri": "https://localhost:8080/",
          "height": 35
        },
        "outputId": "3f6eca0e-3d3e-49f3-a46f-9dc3e55b5ac1"
      },
      "outputs": [
        {
          "output_type": "execute_result",
          "data": {
            "text/plain": [
              "'Test Accuracy: 0.8948717713356018'"
            ],
            "application/vnd.google.colaboratory.intrinsic+json": {
              "type": "string"
            }
          },
          "metadata": {},
          "execution_count": 46
        }
      ],
      "source": [
        "\"Test Accuracy: \" + str(score[1])"
      ],
      "id": "820a523f"
    },
    {
      "cell_type": "markdown",
      "source": [
        "## Hyperparameter Tuning"
      ],
      "metadata": {
        "id": "sJfIrry4ZdOX"
      },
      "id": "sJfIrry4ZdOX"
    },
    {
      "cell_type": "code",
      "execution_count": null,
      "metadata": {
        "id": "pnP8xOTWw7fS",
        "colab": {
          "base_uri": "https://localhost:8080/"
        },
        "outputId": "961405e2-bc31-4030-d751-14cfc7d1ba7f"
      },
      "outputs": [
        {
          "output_type": "stream",
          "name": "stdout",
          "text": [
            "Collecting keras_tuner\n",
            "  Downloading keras_tuner-1.3.5-py3-none-any.whl (176 kB)\n",
            "\u001b[?25l     \u001b[90m━━━━━━━━━━━━━━━━━━━━━━━━━━━━━━━━━━━━━━━━\u001b[0m \u001b[32m0.0/176.1 kB\u001b[0m \u001b[31m?\u001b[0m eta \u001b[36m-:--:--\u001b[0m\r\u001b[2K     \u001b[91m━━━━━━━━━━━━━━━━━━━━━━━━\u001b[0m\u001b[91m╸\u001b[0m\u001b[90m━━━━━━━━━━━━━━\u001b[0m \u001b[32m112.6/176.1 kB\u001b[0m \u001b[31m3.2 MB/s\u001b[0m eta \u001b[36m0:00:01\u001b[0m\r\u001b[2K     \u001b[90m━━━━━━━━━━━━━━━━━━━━━━━━━━━━━━━━━━━━━━━\u001b[0m \u001b[32m176.1/176.1 kB\u001b[0m \u001b[31m3.7 MB/s\u001b[0m eta \u001b[36m0:00:00\u001b[0m\n",
            "\u001b[?25hRequirement already satisfied: packaging in /usr/local/lib/python3.10/dist-packages (from keras_tuner) (23.1)\n",
            "Requirement already satisfied: requests in /usr/local/lib/python3.10/dist-packages (from keras_tuner) (2.31.0)\n",
            "Collecting kt-legacy (from keras_tuner)\n",
            "  Downloading kt_legacy-1.0.5-py3-none-any.whl (9.6 kB)\n",
            "Requirement already satisfied: charset-normalizer<4,>=2 in /usr/local/lib/python3.10/dist-packages (from requests->keras_tuner) (3.2.0)\n",
            "Requirement already satisfied: idna<4,>=2.5 in /usr/local/lib/python3.10/dist-packages (from requests->keras_tuner) (3.4)\n",
            "Requirement already satisfied: urllib3<3,>=1.21.1 in /usr/local/lib/python3.10/dist-packages (from requests->keras_tuner) (2.0.4)\n",
            "Requirement already satisfied: certifi>=2017.4.17 in /usr/local/lib/python3.10/dist-packages (from requests->keras_tuner) (2023.7.22)\n",
            "Installing collected packages: kt-legacy, keras_tuner\n",
            "Successfully installed keras_tuner-1.3.5 kt-legacy-1.0.5\n"
          ]
        }
      ],
      "source": [
        "!pip3 install keras_tuner"
      ],
      "id": "pnP8xOTWw7fS"
    },
    {
      "cell_type": "code",
      "execution_count": null,
      "metadata": {
        "id": "4b6d6f04"
      },
      "outputs": [],
      "source": [
        "import keras\n",
        "import keras_tuner\n",
        "\n",
        "from tensorflow.keras.layers import BatchNormalization"
      ],
      "id": "4b6d6f04"
    },
    {
      "cell_type": "code",
      "execution_count": null,
      "metadata": {
        "id": "6f25871c"
      },
      "outputs": [],
      "source": [
        "def build_model(hp):\n",
        "    model = Sequential()\n",
        "\n",
        "    num_conv_layers = hp.Int('num_conv_layers',\n",
        "                             min_value=1,\n",
        "                             max_value=5,\n",
        "                             step=1)\n",
        "    num_dense_layers = hp.Int('num_dense_layers',\n",
        "                              min_value=1,\n",
        "                              max_value=5,\n",
        "                              step=1)\n",
        "\n",
        "    model.add(\n",
        "        Conv2D(filters=hp.Int('filters_initial',\n",
        "                              min_value=16,\n",
        "                              max_value=512,\n",
        "                              step=16),\n",
        "               kernel_size=(3, 3),\n",
        "               activation=hp.Choice(\"activation_initial\",\n",
        "                                    values=[\"relu\", \"leaky_relu\"]),\n",
        "               padding=\"same\",\n",
        "               input_shape=(64, 64, 3)))\n",
        "    if hp.Boolean(f\"use_batchnorm_conv_initial\"):\n",
        "            model.add(BatchNormalization())\n",
        "    model.add(MaxPooling2D(2, 2))\n",
        "\n",
        "    for i in range(num_conv_layers):\n",
        "        model.add(\n",
        "            Conv2D(filters=hp.Int(f'filters_conv_{i}',\n",
        "                                  min_value=16,\n",
        "                                  max_value=512,\n",
        "                                  step=16),\n",
        "                   kernel_size=(3, 3),\n",
        "                   activation=hp.Choice(f\"activation_conv_{i}\",\n",
        "                                        values=[\"relu\", \"leaky_relu\"]),\n",
        "                   padding=\"same\"))\n",
        "        if hp.Boolean(f\"use_batchnorm_conv_{i}\"):\n",
        "            model.add(BatchNormalization())\n",
        "        model.add(MaxPooling2D(2, 2))\n",
        "\n",
        "    model.add(Flatten())\n",
        "\n",
        "    for i in range(num_dense_layers):\n",
        "        if hp.Boolean(f\"use_dropout_dense_{i}\"):\n",
        "            model.add(\n",
        "                Dropout(\n",
        "                    hp.Float(f\"dropout_dense_{i}\",\n",
        "                             min_value=0,\n",
        "                             max_value=1,\n",
        "                             step=0.05)))\n",
        "\n",
        "        model.add(\n",
        "            Dense(units=hp.Int(f\"units_dense_{i}\",\n",
        "                               min_value=16,\n",
        "                               max_value=512,\n",
        "                               step=16),\n",
        "                  activation=hp.Choice(f\"activation_dense_{i}\",\n",
        "                                       values=[\"relu\", \"leaky_relu\"])))\n",
        "\n",
        "        if hp.Boolean(f\"use_batchnorm_dense_{i}\"):\n",
        "            model.add(BatchNormalization())\n",
        "\n",
        "    model.add(Dense(units=2, activation=\"softmax\"))\n",
        "\n",
        "    model.compile(optimizer=hp.Choice(\"optimizer\", values=[\"adam\", \"rmsprop\"]),\n",
        "                  loss=\"categorical_crossentropy\",\n",
        "                  metrics=[\"accuracy\"])\n",
        "\n",
        "    return model"
      ],
      "id": "6f25871c"
    },
    {
      "cell_type": "code",
      "execution_count": null,
      "metadata": {
        "id": "c3a65d30",
        "colab": {
          "base_uri": "https://localhost:8080/"
        },
        "outputId": "abce9fa6-89b0-4415-81dd-bf1c726054b5"
      },
      "outputs": [
        {
          "output_type": "execute_result",
          "data": {
            "text/plain": [
              "<keras.engine.sequential.Sequential at 0x78c1ba0c8ac0>"
            ]
          },
          "metadata": {},
          "execution_count": 11
        }
      ],
      "source": [
        "build_model(keras_tuner.HyperParameters())"
      ],
      "id": "c3a65d30"
    },
    {
      "cell_type": "code",
      "execution_count": null,
      "metadata": {
        "id": "448e6fc7"
      },
      "outputs": [],
      "source": [
        "tuner = keras_tuner.Hyperband(build_model,\n",
        "                              max_epochs=10,\n",
        "                              objective=\"val_accuracy\")"
      ],
      "id": "448e6fc7"
    },
    {
      "cell_type": "code",
      "execution_count": null,
      "metadata": {
        "id": "38030642",
        "colab": {
          "base_uri": "https://localhost:8080/"
        },
        "outputId": "bc126a1f-db39-45bd-e4d7-796731e3a3b5"
      },
      "outputs": [
        {
          "output_type": "stream",
          "name": "stdout",
          "text": [
            "Search space summary\n",
            "Default search space size: 13\n",
            "num_conv_layers (Int)\n",
            "{'default': None, 'conditions': [], 'min_value': 1, 'max_value': 5, 'step': 1, 'sampling': 'linear'}\n",
            "num_dense_layers (Int)\n",
            "{'default': None, 'conditions': [], 'min_value': 1, 'max_value': 5, 'step': 1, 'sampling': 'linear'}\n",
            "filters_initial (Int)\n",
            "{'default': None, 'conditions': [], 'min_value': 16, 'max_value': 512, 'step': 16, 'sampling': 'linear'}\n",
            "activation_initial (Choice)\n",
            "{'default': 'relu', 'conditions': [], 'values': ['relu', 'leaky_relu'], 'ordered': False}\n",
            "use_batchnorm_conv_initial (Boolean)\n",
            "{'default': False, 'conditions': []}\n",
            "filters_conv_0 (Int)\n",
            "{'default': None, 'conditions': [], 'min_value': 16, 'max_value': 512, 'step': 16, 'sampling': 'linear'}\n",
            "activation_conv_0 (Choice)\n",
            "{'default': 'relu', 'conditions': [], 'values': ['relu', 'leaky_relu'], 'ordered': False}\n",
            "use_batchnorm_conv_0 (Boolean)\n",
            "{'default': False, 'conditions': []}\n",
            "use_dropout_dense_0 (Boolean)\n",
            "{'default': False, 'conditions': []}\n",
            "units_dense_0 (Int)\n",
            "{'default': None, 'conditions': [], 'min_value': 16, 'max_value': 512, 'step': 16, 'sampling': 'linear'}\n",
            "activation_dense_0 (Choice)\n",
            "{'default': 'relu', 'conditions': [], 'values': ['relu', 'leaky_relu'], 'ordered': False}\n",
            "use_batchnorm_dense_0 (Boolean)\n",
            "{'default': False, 'conditions': []}\n",
            "optimizer (Choice)\n",
            "{'default': 'adam', 'conditions': [], 'values': ['adam', 'rmsprop'], 'ordered': False}\n"
          ]
        }
      ],
      "source": [
        "tuner.search_space_summary()"
      ],
      "id": "38030642"
    },
    {
      "cell_type": "code",
      "execution_count": null,
      "metadata": {
        "id": "4befb693",
        "scrolled": false,
        "colab": {
          "base_uri": "https://localhost:8080/"
        },
        "outputId": "0c23299c-03e1-4f53-daf3-c365ea04143c"
      },
      "outputs": [
        {
          "output_type": "stream",
          "name": "stdout",
          "text": [
            "Trial 30 Complete [00h 13m 02s]\n",
            "val_accuracy: 0.879487156867981\n",
            "\n",
            "Best val_accuracy So Far: 0.9196581244468689\n",
            "Total elapsed time: 02h 48m 59s\n"
          ]
        }
      ],
      "source": [
        "tuner.search(x=train_generator, validation_data=val_generator)"
      ],
      "id": "4befb693"
    },
    {
      "cell_type": "code",
      "source": [
        "best_model = tuner.get_best_models()[0]"
      ],
      "metadata": {
        "id": "VEtANSDuYxQQ"
      },
      "id": "VEtANSDuYxQQ",
      "execution_count": null,
      "outputs": []
    },
    {
      "cell_type": "code",
      "execution_count": null,
      "metadata": {
        "id": "57558b80"
      },
      "outputs": [],
      "source": [
        "image = load_img(\"/content/person1_bacteria_2.jpeg\",\n",
        "                 target_size=(64, 64))"
      ],
      "id": "57558b80"
    },
    {
      "cell_type": "code",
      "execution_count": null,
      "metadata": {
        "id": "d79832ed"
      },
      "outputs": [],
      "source": [
        "image_array = img_to_array(image)"
      ],
      "id": "d79832ed"
    },
    {
      "cell_type": "code",
      "execution_count": null,
      "metadata": {
        "id": "a2e644a2"
      },
      "outputs": [],
      "source": [
        "image_array = image_array.reshape((1, ) + image_array.shape)"
      ],
      "id": "a2e644a2"
    },
    {
      "cell_type": "code",
      "execution_count": null,
      "metadata": {
        "id": "6bf19416"
      },
      "outputs": [],
      "source": [
        "image_array = image_array / 255.0"
      ],
      "id": "6bf19416"
    },
    {
      "cell_type": "code",
      "execution_count": null,
      "metadata": {
        "id": "b0a5a9e9",
        "colab": {
          "base_uri": "https://localhost:8080/"
        },
        "outputId": "94c67e57-e47b-44cd-dca1-bca542ba7454"
      },
      "outputs": [
        {
          "output_type": "stream",
          "name": "stdout",
          "text": [
            "1/1 [==============================] - 0s 193ms/step\n"
          ]
        }
      ],
      "source": [
        "prediction = best_model.predict(image_array)"
      ],
      "id": "b0a5a9e9"
    },
    {
      "cell_type": "code",
      "execution_count": null,
      "metadata": {
        "id": "43315133",
        "colab": {
          "base_uri": "https://localhost:8080/"
        },
        "outputId": "068771a6-a957-4bee-fdd3-72ecec05ced4"
      },
      "outputs": [
        {
          "output_type": "execute_result",
          "data": {
            "text/plain": [
              "array([[0.15624544, 0.8437546 ]], dtype=float32)"
            ]
          },
          "metadata": {},
          "execution_count": 22
        }
      ],
      "source": [
        "prediction"
      ],
      "id": "43315133"
    },
    {
      "cell_type": "code",
      "execution_count": null,
      "metadata": {
        "id": "81d98705"
      },
      "outputs": [],
      "source": [
        "class_names = [\"normal\", \"pneumonia\"]"
      ],
      "id": "81d98705"
    },
    {
      "cell_type": "code",
      "execution_count": null,
      "metadata": {
        "id": "4167c898",
        "colab": {
          "base_uri": "https://localhost:8080/",
          "height": 35
        },
        "outputId": "31d400fe-5ff0-4429-9494-5a4c8e83e806"
      },
      "outputs": [
        {
          "output_type": "execute_result",
          "data": {
            "text/plain": [
              "'pneumonia'"
            ],
            "application/vnd.google.colaboratory.intrinsic+json": {
              "type": "string"
            }
          },
          "metadata": {},
          "execution_count": 24
        }
      ],
      "source": [
        "class_names[np.argmax(prediction[0])]"
      ],
      "id": "4167c898"
    },
    {
      "cell_type": "code",
      "source": [
        "best_model.save('x-ray_best_model.keras')"
      ],
      "metadata": {
        "id": "orkF_uEDZuzY"
      },
      "id": "orkF_uEDZuzY",
      "execution_count": null,
      "outputs": []
    }
  ],
  "metadata": {
    "accelerator": "TPU",
    "colab": {
      "machine_shape": "hm",
      "provenance": []
    },
    "kernelspec": {
      "display_name": "Python 3",
      "name": "python3"
    },
    "language_info": {
      "codemirror_mode": {
        "name": "ipython",
        "version": 3
      },
      "file_extension": ".py",
      "mimetype": "text/x-python",
      "name": "python",
      "nbconvert_exporter": "python",
      "pygments_lexer": "ipython3",
      "version": "3.9.13"
    }
  },
  "nbformat": 4,
  "nbformat_minor": 5
}